{
  "cells": [
    {
      "cell_type": "markdown",
      "source": [
        "# One click ComfyUI ⚡\n",
        "\n",
        "*if you find this helpful consider becoming a member on patreon, subscribe to my youtube for Ai applications guides*\n",
        "\n",
        "[![Patreon](https://img.shields.io/badge/Patreon-Support-orange?style=rounded-square&logo=patreon)](https://www.patreon.com/intuitiveai)\n",
        "[![Youtube](https://img.shields.io/badge/Youtube-Subscribe-red?style=rounded-square&logo=youtube)](https://www.youtube.com/@theintuitiveye)\n",
        "[![GitHub](https://img.shields.io/badge/GitHub-Visit-blue?style=rounded-square&logo=github)](https://github.com/tieai)\n",
        "[![Huggingface](https://img.shields.io/badge/Huggingface-visit-yellow?style=rounded-square&logo=huggingface)](https://huggingface.co/theintuitiveye)\n",
        "[![Instagram](https://img.shields.io/badge/Instagarm-Follow-pink?style=rounded-square&logo=Instagram)](https://Instagram.com/theintuitiveye)\n",
        "\n"
      ],
      "metadata": {
        "id": "eWQ7noiGUHCs"
      }
    },
    {
      "cell_type": "code",
      "execution_count": null,
      "metadata": {
        "id": "SaAJk33ppFw1",
        "cellView": "form"
      },
      "outputs": [],
      "source": [
        "# @title One Click Setup\n",
        "import os\n",
        "!apt -y update -qq\n",
        "!apt -y install -qq aria2\n",
        "!pip install -q xformers==0.0.20\n",
        "\n",
        "!git clone https://github.com/comfyanonymous/ComfyUI\n",
        "%cd /content/ComfyUI\n",
        "!pip install -q -r requirements.txt\n",
        "\n",
        "!wget https://github.com/cloudflare/cloudflared/releases/latest/download/cloudflared-linux-amd64.deb\n",
        "!dpkg -i cloudflared-linux-amd64.deb\n",
        "\n",
        "import subprocess\n",
        "import threading\n",
        "import time\n",
        "import socket\n",
        "import urllib.request\n",
        "\n",
        "def iframe_thread(port):\n",
        "  while True:\n",
        "      time.sleep(0.5)\n",
        "      sock = socket.socket(socket.AF_INET, socket.SOCK_STREAM)\n",
        "      result = sock.connect_ex(('127.0.0.1', port))\n",
        "      if result == 0:\n",
        "        break\n",
        "      sock.close()\n",
        "  print(\"\\nComfyUI finished loading, trying to launch cloudflared\\n\")\n",
        "\n",
        "  p = subprocess.Popen([\"cloudflared\", \"tunnel\", \"--url\", \"http://127.0.0.1:{}\".format(port)], stdout=subprocess.PIPE, stderr=subprocess.PIPE)\n",
        "  for line in p.stderr:\n",
        "    l = line.decode()\n",
        "    if \"trycloudflare.com \" in l:\n",
        "      print(\"This is the URL to access ComfyUI:\", l[l.find(\"http\"):], end='')\n",
        "    #print(l, end='')\n",
        "\n",
        "threading.Thread(target=iframe_thread, daemon=True, args=(8188,)).start()\n",
        "\n",
        "!aria2c --console-log-level=error -c -x 16 -s 16 -k 1M https://github.com/xinntao/Real-ESRGAN/releases/download/v0.2.1/RealESRGAN_x2plus.pth -d /content/ComfyUI/models/upscale_models -o RealESRGAN_x2plus.pth\n",
        "\n",
        "base = \"https://huggingface.co/ckpt/sd_xl_base_1.0/resolve/main/sd_xl_base_1.0.safetensors\"\n",
        "!aria2c --console-log-level=error -c -x 16 -s 16 -k 1M {base} -d /content/ComfyUI/models/checkpoints -o sd_xl_base_1.0.safetensors\n",
        "\n",
        "refiner = \"https://huggingface.co/ckpt/sd_xl_refiner_1.0/resolve/main/sd_xl_refiner_1.0.safetensors\"\n",
        "!aria2c --console-log-level=error -c -x 16 -s 16 -k 1M {refiner} -d /content/ComfyUI/models/checkpoints -o sd_xl_refiner_1.0.safetensors\n",
        "\n",
        "!aria2c --console-log-level=error -c -x 16 -s 16 -k 1M https://huggingface.co/ckpt/sdxl_vae/resolve/main/sdxl_vae.safetensors -d /content/ComfyUI/models/vae -o sdxl_vae.vae.safetensors\n",
        "\n",
        "!python main.py --dont-print-server"
      ]
    },
    {
      "cell_type": "code",
      "source": [
        "# @title Save outputs to drive - Run it once before disconnecting the runtime { display-mode: \"both\" }\n",
        "from google.colab import drive\n",
        "drive.mount('/content/drive')\n",
        "\n",
        "import shutil\n",
        "import os\n",
        "import datetime\n",
        "# Get the user's desired folder name\n",
        "output_folder_name=\"Enter folder name here\" #@param{type:\"string\"}\n",
        "# Define paths\n",
        "source_folder_path = '/content/ComfyUI/output'  # Replace with the actual path to the folder in the runtime environment\n",
        "destination_folder_path = f'/content/drive/MyDrive/{output_folder_name}'  # Replace with the desired destination path in your Google Drive\n",
        "\n",
        "# Create the destination folder in Google Drive if it doesn't exist\n",
        "os.makedirs(destination_folder_path, exist_ok=True)\n",
        "\n",
        "# Get the current date in DD/MM/YY format\n",
        "current_date = datetime.datetime.now().strftime(\"%d-%m-%y\")\n",
        "date_folder_path = os.path.join(destination_folder_path, current_date)\n",
        "\n",
        "# Create the date folder in the destination folder\n",
        "os.makedirs(date_folder_path, exist_ok=True)\n",
        "\n",
        "# Copy the contents of the source folder to the date folder\n",
        "for item_name in os.listdir(source_folder_path):\n",
        "    item_path = os.path.join(source_folder_path, item_name)\n",
        "    destination_item_path = os.path.join(date_folder_path, item_name)\n",
        "\n",
        "    # Copy the item to the date folder\n",
        "    shutil.copy(item_path, destination_item_path)\n",
        "\n",
        "print(\"Contents copied successfully to the date folder:\", current_date)\n",
        "\n"
      ],
      "metadata": {
        "id": "fY9XFkQXC1F7"
      },
      "execution_count": null,
      "outputs": []
    }
  ],
  "metadata": {
    "colab": {
      "private_outputs": true,
      "provenance": [],
      "gpuType": "T4"
    },
    "kernelspec": {
      "display_name": "Python 3",
      "name": "python3"
    },
    "language_info": {
      "name": "python",
      "version": "3.10.8"
    },
    "vscode": {
      "interpreter": {
        "hash": "e593ac106456af50ce7af38f9671c411b49d6cd90f9b885e167f0f594e09038c"
      }
    },
    "accelerator": "GPU"
  },
  "nbformat": 4,
  "nbformat_minor": 0
}